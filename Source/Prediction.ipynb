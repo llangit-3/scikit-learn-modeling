{
 "cells": [
  {
   "cell_type": "code",
   "execution_count": 1,
   "id": "8e279b03",
   "metadata": {},
   "outputs": [],
   "source": [
    "import pandas as pd\n",
    "import numpy as np\n",
    "from sklearn.pipeline import Pipeline\n",
    "from sklearn.compose import ColumnTransformer\n",
    "from sklearn.preprocessing import OneHotEncoder, StandardScaler\n",
    "from sklearn.impute import SimpleImputer\n",
    "from sklearn.ensemble import RandomForestClassifier\n",
    "from sklearn.model_selection import train_test_split\n",
    "from sklearn.metrics import accuracy_score"
   ]
  },
  {
   "cell_type": "code",
   "execution_count": 2,
   "id": "51031061",
   "metadata": {},
   "outputs": [],
   "source": [
    "train_df = pd.read_csv('../Dataset/train.csv')\n",
    "test_df = pd.read_csv('../Dataset/test.csv')"
   ]
  },
  {
   "cell_type": "code",
   "execution_count": 3,
   "id": "a5d7b04c",
   "metadata": {},
   "outputs": [
    {
     "name": "stdout",
     "output_type": "stream",
     "text": [
      "Validation Accuracy: 0.8004600345025877\n",
      "Submission file created: submission_final.csv\n"
     ]
    }
   ],
   "source": [
    "for df in [train_df, test_df]:\n",
    "    df['Deck'] = df['Cabin'].str.split('/').str[0]\n",
    "    df['Num'] = pd.to_numeric(df['Cabin'].str.split('/').str[1], errors='coerce')\n",
    "    df['Side'] = df['Cabin'].str.split('/').str[2]\n",
    "    df.drop(columns=['Cabin'], inplace=True)\n",
    "\n",
    "money_features = ['RoomService', 'FoodCourt', 'ShoppingMall', 'Spa', 'VRDeck']\n",
    "for df in [train_df, test_df]:\n",
    "    df['TotalSpend'] = df[money_features].sum(axis=1)\n",
    "\n",
    "drop_cols = ['PassengerId', 'Name']\n",
    "X = train_df.drop(columns=['Transported'] + drop_cols)\n",
    "y = train_df['Transported'].astype(int)\n",
    "X_test = test_df.drop(columns=drop_cols)\n",
    "\n",
    "numeric_features = ['Age', 'RoomService', 'FoodCourt', 'ShoppingMall', 'Spa', 'VRDeck', 'Num', 'TotalSpend']\n",
    "cat_features = ['HomePlanet', 'CryoSleep', 'Destination', 'VIP', 'Deck', 'Side']\n",
    "\n",
    "for col in numeric_features + cat_features:\n",
    "    if col not in X_test.columns:\n",
    "        X_test[col] = np.nan\n",
    "\n",
    "preprocessor = ColumnTransformer(\n",
    "    transformers=[\n",
    "        (\"num\", Pipeline([\n",
    "            (\"imputer\", SimpleImputer(strategy=\"median\")),\n",
    "            (\"scaler\", StandardScaler())\n",
    "        ]), numeric_features),\n",
    "        (\"cat\", Pipeline([\n",
    "            (\"imputer\", SimpleImputer(strategy=\"most_frequent\")),\n",
    "            (\"onehot\", OneHotEncoder(handle_unknown=\"ignore\"))\n",
    "        ]), cat_features)\n",
    "    ]\n",
    ")\n",
    "\n",
    "clf = Pipeline([\n",
    "    (\"preprocessor\", preprocessor),\n",
    "    (\"model\", RandomForestClassifier(n_estimators=500, max_depth=15, random_state=42))\n",
    "])\n",
    "\n",
    "X_train, X_val, y_train, y_val = train_test_split(X, y, test_size=0.2, random_state=42)\n",
    "clf.fit(X_train, y_train)\n",
    "\n",
    "y_val_pred = clf.predict(X_val)\n",
    "print(\"Validation Accuracy:\", accuracy_score(y_val, y_val_pred))\n",
    "\n",
    "y_pred = clf.predict(X_test)\n",
    "\n",
    "submission_df = pd.DataFrame({\n",
    "    \"PassengerId\": test_df[\"PassengerId\"],\n",
    "    \"Transported\": y_pred.astype(bool)\n",
    "})\n",
    "submission_df.to_csv('../submissions/submission_final.csv', index=False)\n",
    "print(\"Submission file created: submission_final.csv\")\n"
   ]
  }
 ],
 "metadata": {
  "kernelspec": {
   "display_name": "Python 3",
   "language": "python",
   "name": "python3"
  },
  "language_info": {
   "codemirror_mode": {
    "name": "ipython",
    "version": 3
   },
   "file_extension": ".py",
   "mimetype": "text/x-python",
   "name": "python",
   "nbconvert_exporter": "python",
   "pygments_lexer": "ipython3",
   "version": "3.13.5"
  }
 },
 "nbformat": 4,
 "nbformat_minor": 5
}
