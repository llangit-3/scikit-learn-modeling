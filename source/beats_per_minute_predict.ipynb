{
 "cells": [
  {
   "cell_type": "code",
   "execution_count": 14,
   "id": "ca702639",
   "metadata": {},
   "outputs": [],
   "source": [
    "import numpy as np\n",
    "import pandas as pd\n",
    "import sklearn.linear_model\n",
    "from sklearn.metrics import root_mean_squared_error\n",
    "import sklearn.model_selection\n",
    "from sklearn.ensemble import RandomForestRegressor"
   ]
  },
  {
   "cell_type": "code",
   "execution_count": 20,
   "id": "c9313358",
   "metadata": {},
   "outputs": [
    {
     "name": "stdout",
     "output_type": "stream",
     "text": [
      "Submission file created: submission.csv\n"
     ]
    }
   ],
   "source": [
    "train_df = pd.read_csv(\"D:/Study and Learn/Python/DS/Projects/Dataset/Playground-1/train.csv\")\n",
    "test_df = pd.read_csv(\"D:/Study and Learn/Python/DS/Projects/Dataset/Playground-1/test.csv\")\n",
    "\n",
    "train_df[\"TrackDurationMin\"] = train_df[\"TrackDurationMs\"] / 60000\n",
    "test_df[\"TrackDurationMin\"] = test_df[\"TrackDurationMs\"] / 60000\n",
    "\n",
    "X = train_df[[\"TrackDurationMin\", \"Energy\", \"AudioLoudness\", \"RhythmScore\", \"InstrumentalScore\"]]\n",
    "y = train_df[\"BeatsPerMinute\"].values\n",
    "\n",
    "X_tr, X_val, y_tr, y_val = sklearn.model_selection.train_test_split(X, y, test_size=0.2, random_state=42)\n",
    "\n",
    "model = sklearn.linear_model.LinearRegression()\n",
    "model.fit(X_tr, y_tr)\n",
    "\n",
    "y_val_pred = model.predict(X_val)\n",
    "\n",
    "rmse = np.sqrt(root_mean_squared_error(y_val, y_val_pred))\n",
    "\n",
    "model.fit(X, y)\n",
    "\n",
    "X_test = test_df[[\"TrackDurationMin\", \"Energy\", \"AudioLoudness\", \"RhythmScore\", \"InstrumentalScore\"]]\n",
    "y_pred = model.predict(X_test)\n",
    "\n",
    "submission_df = pd.DataFrame({\n",
    "    \"id\": test_df[\"id\"],\n",
    "    \"BeatsPerMinute\": y_pred\n",
    "})\n",
    "\n",
    "submission = submission_df.sort_values(\"id\")\n",
    "submission_df.to_csv(\"D:/Study and Learn/Python/DS/Projects/Dataset/Playground-1/submission_7.csv\", index=False)\n",
    "\n",
    "print(\"Submission file created: submission.csv\")"
   ]
  }
 ],
 "metadata": {
  "kernelspec": {
   "display_name": "Python 3",
   "language": "python",
   "name": "python3"
  },
  "language_info": {
   "codemirror_mode": {
    "name": "ipython",
    "version": 3
   },
   "file_extension": ".py",
   "mimetype": "text/x-python",
   "name": "python",
   "nbconvert_exporter": "python",
   "pygments_lexer": "ipython3",
   "version": "3.13.5"
  }
 },
 "nbformat": 4,
 "nbformat_minor": 5
}
