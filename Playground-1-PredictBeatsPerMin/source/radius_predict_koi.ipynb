{
 "cells": [
  {
   "cell_type": "code",
   "execution_count": 7,
   "id": "9910d6ab",
   "metadata": {},
   "outputs": [],
   "source": [
    "from sklearn.linear_model import LinearRegression\n",
    "from sklearn.model_selection import train_test_split\n",
    "from sklearn.metrics import mean_squared_error\n",
    "from sklearn.metrics import r2_score\n",
    "import numpy as np\n",
    "import pandas as pd"
   ]
  },
  {
   "cell_type": "code",
   "execution_count": 4,
   "id": "2cc3dcb3",
   "metadata": {},
   "outputs": [],
   "source": [
    "features = ['koi_period', 'koi_duration','koi_depth']\n",
    "target = 'koi_prad'\n",
    "\n",
    "df = pd.read_csv(\"D:/Study and Learn/Python/DS/Projects/Dataset/Kepler/cumulative.csv\")"
   ]
  },
  {
   "cell_type": "code",
   "execution_count": 9,
   "id": "12102e00",
   "metadata": {},
   "outputs": [
    {
     "data": {
      "text/plain": [
       "(0.0013047636955528796,\n",
       " np.float64(4727.863339630916),\n",
       " {'koi_period': np.float64(0.005992770769772391),\n",
       "  'koi_duration': np.float64(9.283253975921758),\n",
       "  'koi_depth': np.float64(0.00010591680577221041)},\n",
       " np.float64(32.68977755169974))"
      ]
     },
     "execution_count": 9,
     "metadata": {},
     "output_type": "execute_result"
    }
   ],
   "source": [
    "df_model = df[features + [target]].dropna()\n",
    "\n",
    "X = df_model[features]\n",
    "y = df_model[target]\n",
    "\n",
    "X_train, X_test, y_train, y_test = train_test_split(X, y, test_size=0.2, random_state=42)\n",
    "\n",
    "model = LinearRegression()\n",
    "model.fit(X_train, y_train)\n",
    "\n",
    "y_pred = model.predict(X_test)\n",
    "\n",
    "r2 = r2_score(y_test, y_pred)\n",
    "mse = np.sqrt(mean_squared_error(y_test, y_pred))\n",
    "\n",
    "coeffiscients = dict(zip(features, model.coef_))\n",
    "intercept = model.intercept_\n",
    "\n",
    "r2, mse, coeffiscients, intercept"
   ]
  },
  {
   "cell_type": "code",
   "execution_count": 8,
   "id": "fa30c5db",
   "metadata": {},
   "outputs": [
    {
     "data": {
      "text/plain": [
       "np.float64(126.17455279078067)"
      ]
     },
     "execution_count": 8,
     "metadata": {},
     "output_type": "execute_result"
    }
   ],
   "source": [
    "example_input = pd.DataFrame({\n",
    "    \"koi_period\": [100],   # periode orbit (hari)\n",
    "    \"koi_duration\": [10],  # durasi transit (jam)\n",
    "    \"koi_depth\": [500]     # kedalaman transit (ppm)\n",
    "})\n",
    "\n",
    "# Prediksi menggunakan model\n",
    "example_prediction = model.predict(example_input)[0]\n",
    "example_prediction"
   ]
  }
 ],
 "metadata": {
  "kernelspec": {
   "display_name": "Python 3",
   "language": "python",
   "name": "python3"
  },
  "language_info": {
   "codemirror_mode": {
    "name": "ipython",
    "version": 3
   },
   "file_extension": ".py",
   "mimetype": "text/x-python",
   "name": "python",
   "nbconvert_exporter": "python",
   "pygments_lexer": "ipython3",
   "version": "3.13.5"
  }
 },
 "nbformat": 4,
 "nbformat_minor": 5
}
